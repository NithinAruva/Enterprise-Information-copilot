{
 "cells": [
  {
   "cell_type": "code",
   "execution_count": 0,
   "metadata": {
    "application/vnd.databricks.v1+cell": {
     "cellMetadata": {
      "byteLimit": 2048000,
      "rowLimit": 10000
     },
     "inputWidgets": {},
     "nuid": "868f5e40-7740-4d3e-95a4-387a6f2829c6",
     "showTitle": false,
     "title": ""
    }
   },
   "outputs": [],
   "source": [
    "question=dbutils.widget.get('query')"
   ]
  },
  {
   "cell_type": "code",
   "execution_count": 0,
   "metadata": {
    "application/vnd.databricks.v1+cell": {
     "cellMetadata": {
      "byteLimit": 2048000,
      "rowLimit": 10000
     },
     "inputWidgets": {},
     "nuid": "c0e5bf13-319e-4519-b769-60e1313cd274",
     "showTitle": false,
     "title": ""
    }
   },
   "outputs": [
    {
     "output_type": "stream",
     "name": "stdout",
     "output_type": "stream",
     "text": [
      "[NOTICE] Using a notebook authentication token. Recommended for development only. For improved performance, please use Service Principal based authentication. To disable this message, pass disable_notice=True to VectorSearchClient().\n"
     ]
    }
   ],
   "source": [
    "import os\n",
    "\n",
    "from databricks.vector_search.client import VectorSearchClient\n",
    "workspace_url = os.environ.get(\"WORKSPACE_URL\")\n",
    "sp_client_id = os.environ.get(\"SP_CLIENT_ID\")\n",
    "sp_client_secret = os.environ.get(\"SP_CLIENT_SECRET\")\n",
    "vsc = VectorSearchClient(\n",
    "    workspace_url=workspace_url,\n",
    "    service_principal_client_id=sp_client_id,\n",
    "    service_principal_client_secret=sp_client_secret\n",
    ")\n",
    "results = vsc.get_index(\"spectra_transaction\",\"main.default.spectratransaction_index\").similarity_search(\n",
    "  query_text=question,\n",
    "  columns=[\"Chunks\"],\n",
    "  num_results=5)\n",
    "rest = results.get('result', {}).get('data_array', [])"
   ]
  },
  {
   "cell_type": "code",
   "execution_count": 0,
   "metadata": {
    "application/vnd.databricks.v1+cell": {
     "cellMetadata": {
      "byteLimit": 2048000,
      "rowLimit": 10000
     },
     "inputWidgets": {},
     "nuid": "ba15ba66-220e-4573-bb19-54ce4dd3db83",
     "showTitle": false,
     "title": ""
    }
   },
   "outputs": [],
   "source": [
    "chain_config = {\n",
    "    \"llm_model_serving_endpoint_name\": \"databricks-dbrx-instruct\",\n",
    "    \"vector_search_endpoint_name\": \"spectra_transaction\",  # the endoint we want to use for vector search\n",
    "    \"vector_search_index\":\"main.default.spectratransaction_index\",\n",
    "    \"llm_prompt_template\": \"\"\"You are an assistant that answers questions. use the following pieces of retrieved context to answer the question. Some pieces of context may be irrelevant, in which case you should not use them to form the answer.Look between the sentences for answers because answers might not be explicitly mentioned.\\n\\nContext: {context}\"\"\",\n",
    "}"
   ]
  },
  {
   "cell_type": "code",
   "execution_count": 0,
   "metadata": {
    "application/vnd.databricks.v1+cell": {
     "cellMetadata": {
      "byteLimit": 2048000,
      "rowLimit": 10000
     },
     "inputWidgets": {},
     "nuid": "8ddc38b3-aeff-4f4c-b02a-4e51a7080d07",
     "showTitle": false,
     "title": ""
    }
   },
   "outputs": [],
   "source": [
    "from langchain_core.prompts import ChatPromptTemplate\n",
    "from langchain_community.chat_models import ChatDatabricks\n",
    "from operator import itemgetter\n",
    "\n",
    "prompt = ChatPromptTemplate.from_messages(\n",
    "    [  \n",
    "        (\"system\", chain_config.get(\"llm_prompt_template\")), # Contains the instructions from the configuration\n",
    "        (\"user\", \"{question}\") #user's questions\n",
    "    ]\n",
    ")\n",
    "\n",
    "# Our foundation model answering the final prompt\n",
    "model = ChatDatabricks(\n",
    "    endpoint=chain_config.get(\"llm_model_serving_endpoint_name\"),\n",
    "    extra_params={\"temperature\": 0.01, \"max_tokens\": 500}\n",
    ")\n",
    "answer = (prompt | model).invoke({'question': question, 'context': rest})"
   ]
  },
  {
   "cell_type": "code",
   "execution_count": 0,
   "metadata": {
    "application/vnd.databricks.v1+cell": {
     "cellMetadata": {
      "byteLimit": 2048000,
      "rowLimit": 10000
     },
     "inputWidgets": {},
     "nuid": "af2090c6-5c58-4915-b7bf-c7d813a98ae8",
     "showTitle": false,
     "title": ""
    }
   },
   "outputs": [
    {
     "output_type": "execute_result",
     "data": {
      "text/plain": [
       "'Based on the provided context, the status of Transaction ID \"TXN1234567890\" is not explicitly mentioned. However, we can infer that the transaction might have encountered an error since the \"Error Message\" field has a value of \"error 404\".'"
      ]
     },
     "execution_count": 31,
     "metadata": {},
     "output_type": "execute_result"
    }
   ],
   "source": [
    "answer.content"
   ]
  }
 ],
 "metadata": {
  "application/vnd.databricks.v1+notebook": {
   "dashboards": [],
   "environmentMetadata": null,
   "language": "python",
   "notebookMetadata": {
    "mostRecentlyExecutedCommandWithImplicitDF": {
     "commandId": 1127550319823653,
     "dataframes": [
      "_sqldf"
     ]
    },
    "pythonIndentUnit": 4
   },
   "notebookName": "Prompt_Transactional",
   "widgets": {}
  }
 },
 "nbformat": 4,
 "nbformat_minor": 0
}
