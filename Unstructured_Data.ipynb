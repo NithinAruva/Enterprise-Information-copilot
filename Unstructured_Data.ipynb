{
 "cells": [
  {
   "cell_type": "code",
   "execution_count": 0,
   "metadata": {
    "application/vnd.databricks.v1+cell": {
     "cellMetadata": {},
     "inputWidgets": {},
     "nuid": "99809939-a9d1-483a-ad46-28d8e826851e",
     "showTitle": false,
     "title": ""
    }
   },
   "outputs": [],
   "source": [
    "# Input Query\n",
    "question = dbutils.widgets.get(\"query\")"
   ]
  },
  {
   "cell_type": "code",
   "execution_count": 0,
   "metadata": {
    "application/vnd.databricks.v1+cell": {
     "cellMetadata": {},
     "inputWidgets": {},
     "nuid": "d20beb99-62a7-47c3-9bc3-2be4d21b193f",
     "showTitle": false,
     "title": ""
    }
   },
   "outputs": [],
   "source": [
    "import os\n",
    "from databricks.vector_search.client import VectorSearchClient\n",
    "workspace_url = os.environ.get(\"WORKSPACE_URL\")\n",
    "sp_client_id = os.environ.get(\"SP_CLIENT_ID\")\n",
    "sp_client_secret = os.environ.get(\"SP_CLIENT_SECRET\")\n",
    "vsc = VectorSearchClient(\n",
    "    workspace_url=workspace_url,\n",
    "    service_principal_client_id=sp_client_id,\n",
    "    service_principal_client_secret=sp_client_secret,\n",
    "    disable_notice=True\n",
    ")\n",
    "# Querying the Vector Search Index\n",
    "results = vsc.get_index(\"spectra2\",\"main.default.spectra2_index\").similarity_search(\n",
    "  query_text=question,\n",
    "  columns=[\"Chunks\"],\n",
    "  num_results=3)\n",
    "rest = results.get('result', {}).get('data_array', [])"
   ]
  },
  {
   "cell_type": "code",
   "execution_count": 0,
   "metadata": {
    "application/vnd.databricks.v1+cell": {
     "cellMetadata": {},
     "inputWidgets": {},
     "nuid": "21d9d46d-b3a3-4545-9380-ff8196592ac7",
     "showTitle": false,
     "title": ""
    }
   },
   "outputs": [],
   "source": [
    "chain_config = {\n",
    "    \"llm_model_serving_endpoint_name\": \"databricks-dbrx-instruct\",\n",
    "    \"vector_search_endpoint_name\": \"spectra2\",  # the endpoint we want to use for vector search\n",
    "    \"vector_search_index\":\"main.default.spectra2_index\",\n",
    "    \"llm_prompt_template\": \"\"\"You are an assistant that answers questions. use the following pieces of retrieved context to answer the question. Some pieces of context may be irrelevant, in which case you should not use them to form the answer.Look between the sentences for answers because answers might not be explicitly mentioned.\\n\\nContext: {context}\"\"\",\n",
    "}"
   ]
  },
  {
   "cell_type": "code",
   "execution_count": 0,
   "metadata": {
    "application/vnd.databricks.v1+cell": {
     "cellMetadata": {},
     "inputWidgets": {},
     "nuid": "90c733f0-159c-40a2-807a-6231c159d816",
     "showTitle": false,
     "title": ""
    }
   },
   "outputs": [],
   "source": [
    "from langchain_core.prompts import ChatPromptTemplate\n",
    "from langchain_community.chat_models import ChatDatabricks\n",
    "from operator import itemgetter\n",
    "\n",
    "prompt = ChatPromptTemplate.from_messages(\n",
    "    [  \n",
    "        (\"system\", chain_config.get(\"llm_prompt_template\")),\n",
    "        (\"user\", \"{question}\") #user's questions\n",
    "    ]\n",
    ")\n",
    "\n",
    "# Our foundation model answering the final prompt\n",
    "model = ChatDatabricks(\n",
    "    endpoint=chain_config.get(\"llm_model_serving_endpoint_name\"),\n",
    "    extra_params={\"temperature\": 0.01, \"max_tokens\": 500}\n",
    ")\n",
    "answer = (prompt | model).invoke({'question': question, 'context': rest})\n",
    "dbutils.notebook.exit(answer.content)"
   ]
  }
 ],
 "metadata": {
  "application/vnd.databricks.v1+notebook": {
   "dashboards": [],
   "environmentMetadata": null,
   "language": "python",
   "notebookMetadata": {
    "pythonIndentUnit": 4
   },
   "notebookName": "Prompt_Unstructured",
   "widgets": {
    "": {
     "currentValue": "What is the fullform of FPO",
     "nuid": "57efeea9-8173-4f0e-b2f2-4c09f532104e",
     "typedWidgetInfo": {
      "autoCreated": false,
      "defaultValue": "What is the fullform of FPO",
      "label": "Enter a Query",
      "name": "",
      "options": {
       "widgetDisplayType": "Text",
       "validationRegex": null
      },
      "parameterDataType": "String"
     },
     "widgetInfo": {
      "widgetType": "text",
      "defaultValue": "What is the fullform of FPO",
      "label": "Enter a Query",
      "name": "",
      "options": {
       "widgetType": "text",
       "autoCreated": null,
       "validationRegex": null
      }
     }
    }
   }
  }
 },
 "nbformat": 4,
 "nbformat_minor": 0
}
